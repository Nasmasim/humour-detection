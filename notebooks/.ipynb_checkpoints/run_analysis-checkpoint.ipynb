{
 "cells": [
  {
   "cell_type": "markdown",
   "metadata": {},
   "source": [
    "**In this Notebook, we present a few processing steps and preliminary analysis on the humicroedit dataset**"
   ]
  },
  {
   "cell_type": "markdown",
   "metadata": {},
   "source": [
    "**1. Introduction**"
   ]
  },
  {
   "cell_type": "markdown",
   "metadata": {},
   "source": [
    "In Natural language Processing, humour detection is a challenging task. The [SemEval-2020 Task 7](https://arxiv.org/pdf/2008.00304.pdf)  aims to detect humour in English news headlines from micro-edits. The humicroedit dataset (Hossain et al., 2020) contains 9653 training, 2420 development and 3025 testing examples. In task 1 the goal is to predict the the funniness score of an edited headline in the ranges of 0 to 3, where 0 means not funny and 3 means very funny. "
   ]
  },
  {
   "cell_type": "markdown",
   "metadata": {},
   "source": [
    "**2. Imports and downloads**"
   ]
  },
  {
   "cell_type": "code",
   "execution_count": 1,
   "metadata": {},
   "outputs": [],
   "source": [
    "!pip -q install nltk"
   ]
  },
  {
   "cell_type": "code",
   "execution_count": 23,
   "metadata": {},
   "outputs": [],
   "source": [
    "import pandas as pd\n",
    "import numpy as np\n",
    "import matplotlib.pyplot as plt\n",
    "\n",
    "import nltk\n",
    "from nltk.corpus import stopwords\n",
    "\n",
    "from preprocessing.preprocessor import (create_edited_sentences, get_stop_words, dataset_question_full_processing,\n",
    "                                        create_custom_vocab)\n",
    "from utils.plot import (plot_sentence_length_stopwords, plot_mean_grade_distribution,\n",
    "                        plot_number_characters, plot_number_words, plot_top_ngrams, \n",
    "                        plot_loss_vs_epochs, plot_stop_words)\n",
    "from utils.ngrams import get_top_ngram"
   ]
  },
  {
   "cell_type": "markdown",
   "metadata": {},
   "source": [
    "**3. Load Data**"
   ]
  },
  {
   "cell_type": "code",
   "execution_count": 3,
   "metadata": {},
   "outputs": [],
   "source": [
    "# Load data\n",
    "train_df = pd.read_csv('data/task-1/train.csv')\n",
    "dev_df = pd.read_csv('data/task-1/dev.csv')\n",
    "test_df = pd.read_csv('data/task-1/test.csv')\n",
    "\n",
    "# Convert them to full edited sentences\n",
    "modified_train_df = create_edited_sentences(train_df)\n",
    "modified_valid_df = create_edited_sentences(dev_df)\n",
    "modified_test_df = create_edited_sentences(test_df)"
   ]
  },
  {
   "cell_type": "markdown",
   "metadata": {},
   "source": [
    "**4. Preprocess**"
   ]
  },
  {
   "cell_type": "code",
   "execution_count": 4,
   "metadata": {},
   "outputs": [
    {
     "name": "stdout",
     "output_type": "stream",
     "text": [
      "simple_stop_words length: 25\n",
      "custom_stop_words length: 174\n",
      "nltk_stop_words length: 179\n",
      "all_stop_words length: 211\n"
     ]
    },
    {
     "name": "stderr",
     "output_type": "stream",
     "text": [
      "[nltk_data] Downloading package stopwords to\n",
      "[nltk_data]     /Users/nasmadasser/nltk_data...\n",
      "[nltk_data]   Package stopwords is already up-to-date!\n"
     ]
    }
   ],
   "source": [
    "# nltk stopwords english list\n",
    "nltk.download('stopwords')\n",
    "nltk_stopwords = list(stopwords.words('english'))\n",
    "\n",
    "# import custom stopword list\n",
    "simple_stopwords, custom_stopwords = get_stop_words()\n",
    "\n",
    "all_stopwords = list(set(custom_stopwords + nltk_stopwords))\n",
    "\n",
    "stopwords_lists = [[],simple_stopwords, custom_stopwords,nltk_stopwords,\\\n",
    "                   all_stopwords]\n",
    "\n",
    "print(\"simple_stop_words length: \"+str(len(simple_stopwords)))\n",
    "print(\"custom_stop_words length: \"+str(len(custom_stopwords)))\n",
    "print(\"nltk_stop_words length: \"+str(len(nltk_stopwords)))\n",
    "print(\"all_stop_words length: \"+str(len(all_stopwords)))"
   ]
  },
  {
   "cell_type": "code",
   "execution_count": 5,
   "metadata": {},
   "outputs": [],
   "source": [
    "edited_modes = ['question_edited','full_edited']\n",
    "\n",
    "# OK Applying both question and full version to any dataframe and dropping useless values\n",
    "modified_train_df = dataset_question_full_processing(modified_train_df)\n",
    "modified_valid_df = dataset_question_full_processing(modified_valid_df)\n",
    "modified_test_df = dataset_question_full_processing(modified_test_df)"
   ]
  },
  {
   "cell_type": "markdown",
   "metadata": {},
   "source": [
    "**3. Data Visualisation**"
   ]
  },
  {
   "cell_type": "code",
   "execution_count": 6,
   "metadata": {},
   "outputs": [
    {
     "data": {
      "text/html": [
       "<div>\n",
       "<style scoped>\n",
       "    .dataframe tbody tr th:only-of-type {\n",
       "        vertical-align: middle;\n",
       "    }\n",
       "\n",
       "    .dataframe tbody tr th {\n",
       "        vertical-align: top;\n",
       "    }\n",
       "\n",
       "    .dataframe thead th {\n",
       "        text-align: right;\n",
       "    }\n",
       "</style>\n",
       "<table border=\"1\" class=\"dataframe\">\n",
       "  <thead>\n",
       "    <tr style=\"text-align: right;\">\n",
       "      <th></th>\n",
       "      <th>id</th>\n",
       "      <th>meanGrade</th>\n",
       "      <th>edited</th>\n",
       "      <th>question_edited</th>\n",
       "      <th>full_edited</th>\n",
       "    </tr>\n",
       "  </thead>\n",
       "  <tbody>\n",
       "    <tr>\n",
       "      <td>0</td>\n",
       "      <td>14530</td>\n",
       "      <td>0.2</td>\n",
       "      <td>France is ‘ hunting down its citizens who join...</td>\n",
       "      <td>france is hunting down its citizens who joined...</td>\n",
       "      <td>france is hunting down its citizens who joined...</td>\n",
       "    </tr>\n",
       "    <tr>\n",
       "      <td>1</td>\n",
       "      <td>13034</td>\n",
       "      <td>1.6</td>\n",
       "      <td>Pentagon claims 2,000 % increase in Russian tr...</td>\n",
       "      <td>pentagon claims 2000 increase in russian troll...</td>\n",
       "      <td>pentagon claims 2000 increase in russian troll...</td>\n",
       "    </tr>\n",
       "    <tr>\n",
       "      <td>2</td>\n",
       "      <td>8731</td>\n",
       "      <td>1.0</td>\n",
       "      <td>Iceland PM Calls Snap Vote as Pedophile Furor ...</td>\n",
       "      <td>iceland pm calls snap vote as pedophile furor ...</td>\n",
       "      <td>iceland pm calls snap vote as pedophile furor ...</td>\n",
       "    </tr>\n",
       "    <tr>\n",
       "      <td>3</td>\n",
       "      <td>76</td>\n",
       "      <td>0.4</td>\n",
       "      <td>In an apparent first , Iran and Israel slap ea...</td>\n",
       "      <td>in an apparent first iran and israel slap each...</td>\n",
       "      <td>in an apparent first iran and israel slap each...</td>\n",
       "    </tr>\n",
       "    <tr>\n",
       "      <td>4</td>\n",
       "      <td>6164</td>\n",
       "      <td>0.0</td>\n",
       "      <td>Trump was told weeks ago that Flynn misled sch...</td>\n",
       "      <td>trump was told weeks ago that flynn misled sch...</td>\n",
       "      <td>trump was told weeks ago that flynn misled sch...</td>\n",
       "    </tr>\n",
       "  </tbody>\n",
       "</table>\n",
       "</div>"
      ],
      "text/plain": [
       "      id  meanGrade                                             edited  \\\n",
       "0  14530        0.2  France is ‘ hunting down its citizens who join...   \n",
       "1  13034        1.6  Pentagon claims 2,000 % increase in Russian tr...   \n",
       "2   8731        1.0  Iceland PM Calls Snap Vote as Pedophile Furor ...   \n",
       "3     76        0.4  In an apparent first , Iran and Israel slap ea...   \n",
       "4   6164        0.0  Trump was told weeks ago that Flynn misled sch...   \n",
       "\n",
       "                                     question_edited  \\\n",
       "0  france is hunting down its citizens who joined...   \n",
       "1  pentagon claims 2000 increase in russian troll...   \n",
       "2  iceland pm calls snap vote as pedophile furor ...   \n",
       "3  in an apparent first iran and israel slap each...   \n",
       "4  trump was told weeks ago that flynn misled sch...   \n",
       "\n",
       "                                         full_edited  \n",
       "0  france is hunting down its citizens who joined...  \n",
       "1  pentagon claims 2000 increase in russian troll...  \n",
       "2  iceland pm calls snap vote as pedophile furor ...  \n",
       "3  in an apparent first iran and israel slap each...  \n",
       "4  trump was told weeks ago that flynn misled sch...  "
      ]
     },
     "execution_count": 6,
     "metadata": {},
     "output_type": "execute_result"
    }
   ],
   "source": [
    "modified_train_df.head()"
   ]
  },
  {
   "cell_type": "code",
   "execution_count": 7,
   "metadata": {},
   "outputs": [],
   "source": [
    "# Plot sentence length depending on the stop word list removed\n",
    "# Compute the size of the vocabulary\n",
    "series = []\n",
    "vocabularies_sizes = []\n",
    "for stopwords in stopwords_lists:\n",
    "  modified_vocab_train, modified_corpus_train, word_to_idx = create_custom_vocab(modified_train_df['question_edited'], stopwords)\n",
    "  vocabularies_sizes.append(len(modified_vocab_train))\n",
    "  sentence_lengths = []\n",
    "  for sentence in modified_corpus_train:\n",
    "    sentence_lengths.append(len(sentence))\n",
    "  values, counts = np.unique(sentence_lengths,return_counts=True)\n",
    "  frequence = np.zeros(max(values)+1)\n",
    "  for i in range(len(values)):\n",
    "    frequence[values[i]]=counts[i]\n",
    "  series.append(list(frequence))\n",
    "\n",
    "# Extend series with 0\n",
    "list_maxlen = 0\n",
    "for sentence_lengths in series:\n",
    "  list_maxlen = max(len(sentence_lengths),list_maxlen)\n",
    "for i in range(len(series)):\n",
    "  series[i] = series[i] + [0 for i in range(list_maxlen-len(series[i]))]"
   ]
  },
  {
   "cell_type": "markdown",
   "metadata": {},
   "source": [
    "We plot the length of the sentences with each stop word list"
   ]
  },
  {
   "cell_type": "code",
   "execution_count": 8,
   "metadata": {},
   "outputs": [
    {
     "name": "stdout",
     "output_type": "stream",
     "text": [
      "vocabulary size: [10667, 10642, 10553, 10539, 10537]\n"
     ]
    },
    {
     "data": {
      "image/png": "[encoded data removed]",
      "text/plain": [
       "<Figure size 432x288 with 1 Axes>"
      ]
     },
     "metadata": {
      "needs_background": "light"
     },
     "output_type": "display_data"
    }
   ],
   "source": [
    "print('vocabulary size:', vocabularies_sizes)\n",
    "X = np.arange(list_maxlen)\n",
    "plot_sentence_length_stopwords(X, series)"
   ]
  },
  {
   "cell_type": "markdown",
   "metadata": {},
   "source": [
    "The average funniness grade for a headline is 0.94 and there are on average 12.17 words per sentence."
   ]
  },
  {
   "cell_type": "code",
   "execution_count": 17,
   "metadata": {},
   "outputs": [
    {
     "data": {
      "image/png": "[encoded data removed]",
      "text/plain": [
       "<Figure size 432x288 with 1 Axes>"
      ]
     },
     "metadata": {
      "needs_background": "light"
     },
     "output_type": "display_data"
    },
    {
     "name": "stdout",
     "output_type": "stream",
     "text": [
      "Mean of grades: 0.9355712114932938\n"
     ]
    }
   ],
   "source": [
    "modified_train_df.meanGrade.hist( color = 'grey', bins=30, grid =False)\n",
    "plt.xlabel('meanGrade')\n",
    "plt.ylabel('Count')\n",
    "plt.show()\n",
    "print('Mean of grades:' ,modified_train_df.meanGrade.mean())"
   ]
  },
  {
   "cell_type": "code",
   "execution_count": 11,
   "metadata": {},
   "outputs": [
    {
     "data": {
      "image/png": "[encoded data removed]",
      "text/plain": [
       "<Figure size 432x288 with 1 Axes>"
      ]
     },
     "metadata": {
      "needs_background": "light"
     },
     "output_type": "display_data"
    }
   ],
   "source": [
    "plot_number_characters(modified_train_df)"
   ]
  },
  {
   "cell_type": "code",
   "execution_count": 21,
   "metadata": {},
   "outputs": [
    {
     "data": {
      "image/png": "[encoded data removed]",
      "text/plain": [
       "<Figure size 432x288 with 1 Axes>"
      ]
     },
     "metadata": {
      "needs_background": "light"
     },
     "output_type": "display_data"
    },
    {
     "name": "stdout",
     "output_type": "stream",
     "text": [
      "Mean words per sentence: 12.17084542063821\n"
     ]
    }
   ],
   "source": [
    "plot_number_words(modified_train_df)\n",
    "print('Mean words per sentence:' ,modified_train_df.edited.str.split().\\\n",
    "    map(lambda x: len(x)).mean())"
   ]
  },
  {
   "cell_type": "markdown",
   "metadata": {},
   "source": [
    "After analysing the sentence structures, we identified the most common stop words as well as bigrams. Interestingly, Donald Trump and words associated with him ranked the highest in the bigram frequency analysis. These findings, revealed crucial for the preprocessing steps."
   ]
  },
  {
   "cell_type": "code",
   "execution_count": 20,
   "metadata": {},
   "outputs": [
    {
     "data": {
      "image/png": "[encoded data removed]",
      "text/plain": [
       "<Figure size 432x288 with 1 Axes>"
      ]
     },
     "metadata": {
      "needs_background": "light"
     },
     "output_type": "display_data"
    }
   ],
   "source": [
    "# plot the stop words\n",
    "stop=set(nltk_stopwords)\n",
    "corpus=[]\n",
    "new= modified_train_df.edited.str.split()\n",
    "new=new.values.tolist()\n",
    "corpus=[word for i in new for word in i]\n",
    "from collections import defaultdict\n",
    "dic=defaultdict(int)\n",
    "for word in corpus:\n",
    "    if word in stop:\n",
    "        dic[word]+=1\n",
    "        \n",
    "plot_stop_words(dic)"
   ]
  },
  {
   "cell_type": "code",
   "execution_count": 24,
   "metadata": {},
   "outputs": [
    {
     "data": {
      "image/png": "[encoded data removed]",
      "text/plain": [
       "<Figure size 432x288 with 1 Axes>"
      ]
     },
     "metadata": {
      "needs_background": "light"
     },
     "output_type": "display_data"
    }
   ],
   "source": [
    "top_n_bigrams=get_top_ngram(modified_train_df.edited,2)[:10]\n",
    "plot_top_ngrams(top_n_bigrams)"
   ]
  }
 ],
 "metadata": {
  "kernelspec": {
   "display_name": "Python 3",
   "language": "python",
   "name": "python3"
  },
  "language_info": {
   "codemirror_mode": {
    "name": "ipython",
    "version": 3
   },
   "file_extension": ".py",
   "mimetype": "text/x-python",
   "name": "python",
   "nbconvert_exporter": "python",
   "pygments_lexer": "ipython3",
   "version": "3.7.4"
  }
 },
 "nbformat": 4,
 "nbformat_minor": 4
}
