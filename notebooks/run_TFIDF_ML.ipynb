{
 "cells": [
  {
   "cell_type": "markdown",
   "metadata": {},
   "source": [
    "**In this Notebook, we present an approach without using pretrained embeddings with Machine Learning approaches to predict the funniness score of a news headline from the humicroedit dataset**"
   ]
  },
  {
   "cell_type": "markdown",
   "metadata": {},
   "source": [
    "**1. Introduction**"
   ]
  },
  {
   "cell_type": "markdown",
   "metadata": {},
   "source": [
    "In Natural language Processing, humour detection is a challenging task. The [SemEval-2020 Task 7](https://arxiv.org/pdf/2008.00304.pdf)  aims to detect humour in English news headlines from micro-edits. The humicroedit dataset (Hossain et al., 2020) contains 9653 training, 2420 development and 3025 testing examples. In task 1 the goal is to predict the the funniness score of an edited headline in the ranges of 0 to 3, where 0 means not funny and 3 means very funny. "
   ]
  },
  {
   "cell_type": "markdown",
   "metadata": {},
   "source": [
    "**2. Import and Downloads**"
   ]
  },
  {
   "cell_type": "code",
   "execution_count": 30,
   "metadata": {},
   "outputs": [],
   "source": [
    "#@title Imports\n",
    "# Library imports\n",
    "import pandas as pd\n",
    "import numpy as np\n",
    "import seaborn as sns\n",
    "import torch\n",
    "import nltk\n",
    "from nltk.corpus import stopwords\n",
    "from sklearn.model_selection import train_test_split\n",
    "from sklearn.feature_extraction.text import TfidfTransformer, TfidfVectorizer\n",
    "from sklearn.feature_extraction.text import CountVectorizer\n",
    "from sklearn.linear_model import LinearRegression\n",
    "from sklearn import metrics\n",
    "from sklearn.ensemble import (\n",
    "    RandomForestRegressor,\n",
    "    GradientBoostingRegressor,\n",
    "    AdaBoostRegressor,\n",
    ")\n",
    "from sklearn.svm import SVR\n",
    "import xgboost as xgb\n",
    "from preprocessing.preprocessor import (create_edited_sentences, dataset_question_full_processing,\n",
    "                                        create_custom_vocab, get_stop_words)\n",
    "from utils.metrics import model_performance"
   ]
  },
  {
   "cell_type": "markdown",
   "metadata": {},
   "source": [
    "**3. Data Loading**"
   ]
  },
  {
   "cell_type": "code",
   "execution_count": 11,
   "metadata": {},
   "outputs": [],
   "source": [
    "# Load data\n",
    "train_df = pd.read_csv('data/task-1/train.csv')\n",
    "dev_df = pd.read_csv('data/task-1/dev.csv')\n",
    "test_df = pd.read_csv('data/task-1/test.csv')\n",
    "\n",
    "# Convert them to full edited sentences\n",
    "modified_train_df = create_edited_sentences(train_df)\n",
    "modified_valid_df = create_edited_sentences(dev_df)\n",
    "modified_test_df = create_edited_sentences(test_df)"
   ]
  },
  {
   "cell_type": "markdown",
   "metadata": {},
   "source": [
    "**4. Preprocessing**"
   ]
  },
  {
   "cell_type": "markdown",
   "metadata": {},
   "source": [
    "***Stop Words***"
   ]
  },
  {
   "cell_type": "code",
   "execution_count": 12,
   "metadata": {},
   "outputs": [
    {
     "name": "stderr",
     "output_type": "stream",
     "text": [
      "[nltk_data] Downloading package stopwords to\n",
      "[nltk_data]     /Users/nasmadasser/nltk_data...\n",
      "[nltk_data]   Package stopwords is already up-to-date!\n"
     ]
    }
   ],
   "source": [
    "# nltk stopwords english list\n",
    "nltk.download('stopwords')\n",
    "nltk_stopwords = list(stopwords.words('english'))\n",
    "\n",
    "# import custom stopword list\n",
    "simple_stopwords, custom_stopwords = get_stop_words()\n",
    "\n",
    "all_stopwords = list(set(custom_stopwords + nltk_stopwords))\n",
    "\n",
    "stopwords_lists = [[],simple_stopwords, custom_stopwords,nltk_stopwords,\\\n",
    "                   all_stopwords]\n",
    "edited_modes = ['question_edited','full_edited']\n",
    "\n",
    "# OK Applying both question and full version to any dataframe and dropping useless values\n",
    "modified_train_df = dataset_question_full_processing(modified_train_df)\n",
    "modified_valid_df = dataset_question_full_processing(modified_valid_df)\n",
    "modified_test_df = dataset_question_full_processing(modified_test_df)"
   ]
  },
  {
   "cell_type": "markdown",
   "metadata": {},
   "source": [
    "***Train-Test-Dev split***"
   ]
  },
  {
   "cell_type": "code",
   "execution_count": 15,
   "metadata": {},
   "outputs": [],
   "source": [
    "train_proportion =0.8\n",
    "train_and_dev = train_df['edit']\n",
    "training_data, dev_data, training_y, dev_y = train_test_split(train_df['edit'], train_df['meanGrade'],\n",
    "                                                                        test_size=(1-train_proportion),\n",
    "                                                                        random_state=42)"
   ]
  },
  {
   "cell_type": "markdown",
   "metadata": {},
   "source": [
    "**5. Baseline Approach: TF-IDF + Linear Regression**"
   ]
  },
  {
   "cell_type": "code",
   "execution_count": 16,
   "metadata": {},
   "outputs": [],
   "source": [
    "# We train a Tf-idf model\n",
    "count_vect = CountVectorizer(stop_words='english')\n",
    "train_counts = count_vect.fit_transform(training_data)\n",
    "transformer = TfidfTransformer().fit(train_counts)\n",
    "train_counts = transformer.transform(train_counts)\n",
    "regression_model = LinearRegression().fit(train_counts, training_y)"
   ]
  },
  {
   "cell_type": "code",
   "execution_count": 17,
   "metadata": {},
   "outputs": [],
   "source": [
    "# Train predictions\n",
    "predicted_train = regression_model.predict(train_counts)\n",
    "\n",
    "# Calculate Tf-idf using train and dev, and validate model on dev:\n",
    "test_and_test_counts = count_vect.transform(train_and_dev)\n",
    "transformer = TfidfTransformer().fit(test_and_test_counts)\n",
    "\n",
    "test_counts = count_vect.transform(dev_data)\n",
    "\n",
    "test_counts = transformer.transform(test_counts)\n",
    "\n",
    "# Dev predictions\n",
    "predicted = regression_model.predict(test_counts)"
   ]
  },
  {
   "cell_type": "markdown",
   "metadata": {},
   "source": [
    "***Evaluate the model***"
   ]
  },
  {
   "cell_type": "code",
   "execution_count": 20,
   "metadata": {},
   "outputs": [
    {
     "name": "stdout",
     "output_type": "stream",
     "text": [
      "\n",
      "Train performance:\n",
      "| MSE: 0.13 | RMSE: 0.37 |\n",
      "\n",
      "Dev performance:\n",
      "| MSE: 0.36 | RMSE: 0.60 |\n"
     ]
    }
   ],
   "source": [
    "# We run the evaluation:\n",
    "print(\"\\nTrain performance:\")\n",
    "sse, mse = model_performance(predicted_train, training_y, True)\n",
    "\n",
    "print(\"\\nDev performance:\")\n",
    "sse, mse = model_performance(predicted, dev_y, True)"
   ]
  },
  {
   "cell_type": "markdown",
   "metadata": {},
   "source": [
    "***Baseline Mean***"
   ]
  },
  {
   "cell_type": "code",
   "execution_count": 22,
   "metadata": {},
   "outputs": [
    {
     "name": "stdout",
     "output_type": "stream",
     "text": [
      "\n",
      "Baseline performance:\n",
      "| MSE: 0.34 | RMSE: 0.58 |\n"
     ]
    }
   ],
   "source": [
    "# Baseline for the task\n",
    "pred_baseline = torch.zeros(len(dev_y)) + np.mean(training_y)\n",
    "print(\"\\nBaseline performance:\")\n",
    "sse, mse = model_performance(pred_baseline, dev_y, True)"
   ]
  },
  {
   "cell_type": "markdown",
   "metadata": {},
   "source": [
    "***6. Machine Learning Models***"
   ]
  },
  {
   "cell_type": "markdown",
   "metadata": {},
   "source": [
    "***Preprocessing***"
   ]
  },
  {
   "cell_type": "code",
   "execution_count": 24,
   "metadata": {},
   "outputs": [
    {
     "name": "stderr",
     "output_type": "stream",
     "text": [
      "/Users/nasmadasser/opt/anaconda3/lib/python3.7/site-packages/sklearn/feature_extraction/text.py:300: UserWarning: Your stop_words may be inconsistent with your preprocessing. Tokenizing the stop words generated tokens ['aren', 'can', 'couldn', 'didn', 'doesn', 'don', 'hadn', 'hasn', 'haven', 'isn', 'let', 'll', 'mustn', 're', 'shan', 'shouldn', 've', 'wasn', 'weren', 'won', 'wouldn'] not in stop_words.\n",
      "  'stop_words.' % sorted(inconsistent))\n"
     ]
    }
   ],
   "source": [
    " # TFIDF Vectorizer of the sentences, four models with different stop words\n",
    "tfidfconverter_nostopword = TfidfVectorizer(max_features=2000, min_df=5, max_df=0.7)\n",
    "tfidfconverter_simple = TfidfVectorizer(max_features=2000, min_df=5, max_df=0.7, stop_words=simple_stopwords)\n",
    "tfidfconverter_custom = TfidfVectorizer(max_features=2000, min_df=5, max_df=0.7, stop_words=custom_stopwords)\n",
    "tfidfconverter_nltk = TfidfVectorizer(max_features=2000, min_df=5, max_df=0.7, stop_words=nltk_stopwords)\n",
    "tfidfconverters = [tfidfconverter_nostopword, tfidfconverter_simple, tfidfconverter_custom, tfidfconverter_nltk]\n",
    "\n",
    "x_tfs = []\n",
    "# create a list of the edited datasets\n",
    "for tfidfconverter in tfidfconverters:\n",
    "  x_tfs.append((tfidfconverter.fit_transform(modified_train_df['full_edited']).toarray(),\\\n",
    "                     tfidfconverter.transform(modified_valid_df['full_edited']).toarray()))\n",
    "\n",
    "ytrain = list(modified_train_df['meanGrade'])\n",
    "yvalid = list(modified_valid_df['meanGrade'])"
   ]
  },
  {
   "cell_type": "code",
   "execution_count": 25,
   "metadata": {},
   "outputs": [],
   "source": [
    "model_results = {}\n",
    "\n",
    "# function to dispaly results after running the models\n",
    "def display_with_panda(data):\n",
    "  internal_data = [[\"no stopword\",data[0]],[\"simple stopwords\",data[1]],[\"custom stopwords\",data[2]],[\"nltk stopwords\",data[3]]]\n",
    "  return pd.DataFrame(internal_data, columns=[\"Stopword list\",\"Full edited\"])"
   ]
  },
  {
   "cell_type": "markdown",
   "metadata": {},
   "source": [
    "***Model 1: XGBoost***"
   ]
  },
  {
   "cell_type": "code",
   "execution_count": 26,
   "metadata": {},
   "outputs": [
    {
     "name": "stdout",
     "output_type": "stream",
     "text": [
      "| MSE: 0.34 | RMSE: 0.59 |\n",
      "| MSE: 0.34 | RMSE: 0.58 |\n",
      "| MSE: 0.34 | RMSE: 0.59 |\n",
      "| MSE: 0.34 | RMSE: 0.58 |\n"
     ]
    },
    {
     "data": {
      "text/html": [
       "<div>\n",
       "<style scoped>\n",
       "    .dataframe tbody tr th:only-of-type {\n",
       "        vertical-align: middle;\n",
       "    }\n",
       "\n",
       "    .dataframe tbody tr th {\n",
       "        vertical-align: top;\n",
       "    }\n",
       "\n",
       "    .dataframe thead th {\n",
       "        text-align: right;\n",
       "    }\n",
       "</style>\n",
       "<table border=\"1\" class=\"dataframe\">\n",
       "  <thead>\n",
       "    <tr style=\"text-align: right;\">\n",
       "      <th></th>\n",
       "      <th>Stopword list</th>\n",
       "      <th>Full edited</th>\n",
       "    </tr>\n",
       "  </thead>\n",
       "  <tbody>\n",
       "    <tr>\n",
       "      <td>0</td>\n",
       "      <td>no stopword</td>\n",
       "      <td>| MSE: 0.3430 | RMSE: 0.5857 |</td>\n",
       "    </tr>\n",
       "    <tr>\n",
       "      <td>1</td>\n",
       "      <td>simple stopwords</td>\n",
       "      <td>| MSE: 0.3392 | RMSE: 0.5824 |</td>\n",
       "    </tr>\n",
       "    <tr>\n",
       "      <td>2</td>\n",
       "      <td>custom stopwords</td>\n",
       "      <td>| MSE: 0.3422 | RMSE: 0.5850 |</td>\n",
       "    </tr>\n",
       "    <tr>\n",
       "      <td>3</td>\n",
       "      <td>nltk stopwords</td>\n",
       "      <td>| MSE: 0.3413 | RMSE: 0.5842 |</td>\n",
       "    </tr>\n",
       "  </tbody>\n",
       "</table>\n",
       "</div>"
      ],
      "text/plain": [
       "      Stopword list                     Full edited\n",
       "0       no stopword  | MSE: 0.3430 | RMSE: 0.5857 |\n",
       "1  simple stopwords  | MSE: 0.3392 | RMSE: 0.5824 |\n",
       "2  custom stopwords  | MSE: 0.3422 | RMSE: 0.5850 |\n",
       "3    nltk stopwords  | MSE: 0.3413 | RMSE: 0.5842 |"
      ]
     },
     "execution_count": 26,
     "metadata": {},
     "output_type": "execute_result"
    }
   ],
   "source": [
    "# first XGBoost model\n",
    "xgboost_data = []\n",
    "for xtrain_tf, xvalid_tf in x_tfs:\n",
    "  model = xgb.XGBRegressor()\n",
    "  xgb_model = model.fit(xtrain_tf, ytrain)\n",
    "  prediction = xgb_model.predict(xvalid_tf)\n",
    "  sse, mse = model_performance(prediction, yvalid, print_output=True)\n",
    "  xgboost_data.append(f'| MSE: {mse:.4f} | RMSE: {np.sqrt(mse):.4f} |')\n",
    "# store the results\n",
    "model_results[\"XGBoost\"] = xgboost_data\n",
    "# display the results\n",
    "display_with_panda(xgboost_data)"
   ]
  },
  {
   "cell_type": "markdown",
   "metadata": {},
   "source": [
    "***Model 2: Random Forest***"
   ]
  },
  {
   "cell_type": "code",
   "execution_count": 27,
   "metadata": {},
   "outputs": [
    {
     "name": "stderr",
     "output_type": "stream",
     "text": [
      "[Parallel(n_jobs=-1)]: Using backend ThreadingBackend with 8 concurrent workers.\n",
      "[Parallel(n_jobs=-1)]: Done  34 tasks      | elapsed:  4.1min\n",
      "[Parallel(n_jobs=-1)]: Done  50 out of  50 | elapsed:  5.6min finished\n",
      "[Parallel(n_jobs=8)]: Using backend ThreadingBackend with 8 concurrent workers.\n",
      "[Parallel(n_jobs=8)]: Done  34 tasks      | elapsed:    0.1s\n",
      "[Parallel(n_jobs=8)]: Done  50 out of  50 | elapsed:    0.1s finished\n"
     ]
    },
    {
     "name": "stdout",
     "output_type": "stream",
     "text": [
      "| MSE: 0.36 | RMSE: 0.60 |\n"
     ]
    },
    {
     "name": "stderr",
     "output_type": "stream",
     "text": [
      "[Parallel(n_jobs=-1)]: Using backend ThreadingBackend with 8 concurrent workers.\n",
      "[Parallel(n_jobs=-1)]: Done  34 tasks      | elapsed:  5.4min\n",
      "[Parallel(n_jobs=-1)]: Done  50 out of  50 | elapsed:  7.2min finished\n",
      "[Parallel(n_jobs=8)]: Using backend ThreadingBackend with 8 concurrent workers.\n",
      "[Parallel(n_jobs=8)]: Done  34 tasks      | elapsed:    0.0s\n",
      "[Parallel(n_jobs=8)]: Done  50 out of  50 | elapsed:    0.1s finished\n"
     ]
    },
    {
     "name": "stdout",
     "output_type": "stream",
     "text": [
      "| MSE: 0.37 | RMSE: 0.60 |\n"
     ]
    },
    {
     "name": "stderr",
     "output_type": "stream",
     "text": [
      "[Parallel(n_jobs=-1)]: Using backend ThreadingBackend with 8 concurrent workers.\n",
      "[Parallel(n_jobs=-1)]: Done  34 tasks      | elapsed:  7.4min\n",
      "[Parallel(n_jobs=-1)]: Done  50 out of  50 | elapsed:  9.7min finished\n",
      "[Parallel(n_jobs=8)]: Using backend ThreadingBackend with 8 concurrent workers.\n",
      "[Parallel(n_jobs=8)]: Done  34 tasks      | elapsed:    0.0s\n",
      "[Parallel(n_jobs=8)]: Done  50 out of  50 | elapsed:    0.1s finished\n"
     ]
    },
    {
     "name": "stdout",
     "output_type": "stream",
     "text": [
      "| MSE: 0.38 | RMSE: 0.61 |\n"
     ]
    },
    {
     "name": "stderr",
     "output_type": "stream",
     "text": [
      "[Parallel(n_jobs=-1)]: Using backend ThreadingBackend with 8 concurrent workers.\n",
      "[Parallel(n_jobs=-1)]: Done  34 tasks      | elapsed:  7.1min\n",
      "[Parallel(n_jobs=-1)]: Done  50 out of  50 | elapsed:  9.3min finished\n",
      "[Parallel(n_jobs=8)]: Using backend ThreadingBackend with 8 concurrent workers.\n",
      "[Parallel(n_jobs=8)]: Done  34 tasks      | elapsed:    0.0s\n",
      "[Parallel(n_jobs=8)]: Done  50 out of  50 | elapsed:    0.0s finished\n"
     ]
    },
    {
     "name": "stdout",
     "output_type": "stream",
     "text": [
      "| MSE: 0.37 | RMSE: 0.61 |\n"
     ]
    },
    {
     "data": {
      "text/html": [
       "<div>\n",
       "<style scoped>\n",
       "    .dataframe tbody tr th:only-of-type {\n",
       "        vertical-align: middle;\n",
       "    }\n",
       "\n",
       "    .dataframe tbody tr th {\n",
       "        vertical-align: top;\n",
       "    }\n",
       "\n",
       "    .dataframe thead th {\n",
       "        text-align: right;\n",
       "    }\n",
       "</style>\n",
       "<table border=\"1\" class=\"dataframe\">\n",
       "  <thead>\n",
       "    <tr style=\"text-align: right;\">\n",
       "      <th></th>\n",
       "      <th>Stopword list</th>\n",
       "      <th>Full edited</th>\n",
       "    </tr>\n",
       "  </thead>\n",
       "  <tbody>\n",
       "    <tr>\n",
       "      <td>0</td>\n",
       "      <td>no stopword</td>\n",
       "      <td>| MSE: 0.3552 | RMSE: 0.5960 |</td>\n",
       "    </tr>\n",
       "    <tr>\n",
       "      <td>1</td>\n",
       "      <td>simple stopwords</td>\n",
       "      <td>| MSE: 0.3650 | RMSE: 0.6042 |</td>\n",
       "    </tr>\n",
       "    <tr>\n",
       "      <td>2</td>\n",
       "      <td>custom stopwords</td>\n",
       "      <td>| MSE: 0.3752 | RMSE: 0.6125 |</td>\n",
       "    </tr>\n",
       "    <tr>\n",
       "      <td>3</td>\n",
       "      <td>nltk stopwords</td>\n",
       "      <td>| MSE: 0.3716 | RMSE: 0.6096 |</td>\n",
       "    </tr>\n",
       "  </tbody>\n",
       "</table>\n",
       "</div>"
      ],
      "text/plain": [
       "      Stopword list                     Full edited\n",
       "0       no stopword  | MSE: 0.3552 | RMSE: 0.5960 |\n",
       "1  simple stopwords  | MSE: 0.3650 | RMSE: 0.6042 |\n",
       "2  custom stopwords  | MSE: 0.3752 | RMSE: 0.6125 |\n",
       "3    nltk stopwords  | MSE: 0.3716 | RMSE: 0.6096 |"
      ]
     },
     "execution_count": 27,
     "metadata": {},
     "output_type": "execute_result"
    }
   ],
   "source": [
    "# Random Forest with estimator number = 50\n",
    "randomforest_data = []\n",
    "for xtrain_tf, xvalid_tf in x_tfs:\n",
    "  rf_reg = RandomForestRegressor(n_estimators=50, n_jobs=-1, verbose=1, random_state=42)\n",
    "  rf_reg.fit(xtrain_tf, ytrain)\n",
    "  prediction = rf_reg.predict(xvalid_tf)\n",
    "  sse, mse = model_performance(prediction, yvalid, print_output=True)\n",
    "  randomforest_data.append(f'| MSE: {mse:.4f} | RMSE: {np.sqrt(mse):.4f} |')\n",
    "# store the results\n",
    "model_results[\"Random Forest\"] = randomforest_data\n",
    "# print out results\n",
    "display_with_panda(randomforest_data)"
   ]
  },
  {
   "cell_type": "markdown",
   "metadata": {},
   "source": [
    "*With varying n-estimators*"
   ]
  },
  {
   "cell_type": "code",
   "execution_count": 28,
   "metadata": {},
   "outputs": [
    {
     "name": "stdout",
     "output_type": "stream",
     "text": [
      "| MSE: 0.36 | RMSE: 0.60 |\n",
      "N: 40 --> RMSE: 0.5969\n",
      "| MSE: 0.35 | RMSE: 0.59 |\n",
      "N: 60 --> RMSE: 0.5945\n",
      "| MSE: 0.35 | RMSE: 0.59 |\n",
      "N: 80 --> RMSE: 0.5936\n",
      "| MSE: 0.35 | RMSE: 0.59 |\n",
      "N: 100 --> RMSE: 0.5936\n"
     ]
    }
   ],
   "source": [
    "# fine tune Random forest by varying the number of estimators\n",
    "results_rf_optimize = {}\n",
    "xtrain_tf, xvalid_tf=x_tfs[0]\n",
    "for n in range(40, 101, 20):\n",
    "    rf_reg = RandomForestRegressor(n_estimators=n, random_state=56, n_jobs=-1)\n",
    "    rf_reg.fit(xtrain_tf, ytrain)\n",
    "    predictions = rf_reg.predict(xvalid_tf)\n",
    "    _, rf_mse = model_performance(predictions, yvalid, print_output=True)\n",
    "    results_rf_optimize[n] = np.sqrt(rf_mse)\n",
    "    print(f\"N: {n} --> RMSE: {np.sqrt(rf_mse):.4f}\")"
   ]
  },
  {
   "cell_type": "markdown",
   "metadata": {},
   "source": [
    "Plot the results"
   ]
  },
  {
   "cell_type": "code",
   "execution_count": 31,
   "metadata": {},
   "outputs": [
    {
     "data": {
      "image/png": "[encoded data removed]",
      "text/plain": [
       "<Figure size 432x288 with 1 Axes>"
      ]
     },
     "metadata": {
      "needs_background": "light"
     },
     "output_type": "display_data"
    }
   ],
   "source": [
    "# plot the results depending on the number of estimators\n",
    "results_df = (\n",
    "    pd.DataFrame(results_rf_optimize.items(), columns=[\"n_estimators\", \"RMSE\"])\n",
    "    .sort_values(\"n_estimators\")\n",
    "    .reset_index(drop=True))\n",
    "ax = sns.lineplot(x=\"n_estimators\", y=\"RMSE\", data=results_df, color=\"k\")\n",
    "#plt.suptitle(\"Random Forest regressor\\nRMSE per # of estimators\", fontsize=16)\n",
    "ax.set_xlabel(\"N Estimators\", fontsize=15)\n",
    "ax.set_ylabel(\"RMSE\", fontsize=15)\n",
    "ax.xaxis.set_tick_params(labelsize=13)\n",
    "ax.yaxis.set_tick_params(labelsize=13)"
   ]
  },
  {
   "cell_type": "markdown",
   "metadata": {},
   "source": [
    "***Model 3: SVR***"
   ]
  },
  {
   "cell_type": "code",
   "execution_count": 32,
   "metadata": {},
   "outputs": [
    {
     "name": "stdout",
     "output_type": "stream",
     "text": [
      "| MSE: 0.40 | RMSE: 0.63 |\n"
     ]
    },
    {
     "ename": "NameError",
     "evalue": "name 'RMSE' is not defined",
     "output_type": "error",
     "traceback": [
      "\u001b[0;31m---------------------------------------------------------------------------\u001b[0m",
      "\u001b[0;31mNameError\u001b[0m                                 Traceback (most recent call last)",
      "\u001b[0;32m<ipython-input-32-1a899f79696d>\u001b[0m in \u001b[0;36m<module>\u001b[0;34m\u001b[0m\n\u001b[1;32m      9\u001b[0m     \u001b[0;31m#RMSE =np.sqrt(rf_mse)\u001b[0m\u001b[0;34m\u001b[0m\u001b[0;34m\u001b[0m\u001b[0;34m\u001b[0m\u001b[0m\n\u001b[1;32m     10\u001b[0m     \u001b[0mrandomforest_data\u001b[0m\u001b[0;34m.\u001b[0m\u001b[0mappend\u001b[0m\u001b[0;34m(\u001b[0m\u001b[0;34mf'| MSE: {mse:.4f} | RMSE: {np.sqrt(mse):.4f} |'\u001b[0m\u001b[0;34m)\u001b[0m\u001b[0;34m\u001b[0m\u001b[0;34m\u001b[0m\u001b[0m\n\u001b[0;32m---> 11\u001b[0;31m     \u001b[0mprint\u001b[0m\u001b[0;34m(\u001b[0m\u001b[0;34mf\"{kernel}: {RMSE:.5f}\"\u001b[0m\u001b[0;34m)\u001b[0m\u001b[0;34m\u001b[0m\u001b[0;34m\u001b[0m\u001b[0m\n\u001b[0m",
      "\u001b[0;31mNameError\u001b[0m: name 'RMSE' is not defined"
     ]
    }
   ],
   "source": [
    "#First identify best kernel\n",
    "svr_kernel = {}\n",
    "xtrain_tf, xvalid_tf=x_tfs[2]\n",
    "for kernel in [\"linear\", \"poly\", \"rbf\", \"sigmoid\"]:\n",
    "    svr = SVR(kernel=kernel)\n",
    "    svr.fit(xtrain_tf, ytrain)\n",
    "    predictions = svr.predict(xvalid_tf)\n",
    "    _, rf_mse = model_performance(predictions, yvalid, print_output=True)\n",
    "    #RMSE =np.sqrt(rf_mse)\n",
    "    randomforest_data.append(f'| MSE: {mse:.4f} | RMSE: {np.sqrt(mse):.4f} |')\n",
    "    print(f\"{kernel}: {RMSE:.5f}\")"
   ]
  },
  {
   "cell_type": "markdown",
   "metadata": {},
   "source": [
    "Plot the results"
   ]
  },
  {
   "cell_type": "code",
   "execution_count": null,
   "metadata": {},
   "outputs": [],
   "source": [
    "# plot kernel vs RMSE\n",
    "ax = sns.barplot(x=list(svr_kernel.keys()), y=list(svr_kernel.values()), color='grey')\n",
    "# plt.setp(ax.get_xticklabels(), rotation=90);\n",
    "plt.ylim(.5,.7);\n",
    "ax.xaxis.set_tick_params(labelsize=14)\n",
    "ax.yaxis.set_tick_params(labelsize=14)\n",
    "ax.set_xlabel('Kernel', fontsize=14);\n",
    "ax.set_ylabel('RMSE', fontsize=14);\n",
    "#ax.set_title(\"RMSE for Different SVR Kernels\", fontsize=16);"
   ]
  },
  {
   "cell_type": "markdown",
   "metadata": {},
   "source": [
    "Choose an RBF Kernel"
   ]
  },
  {
   "cell_type": "code",
   "execution_count": null,
   "metadata": {},
   "outputs": [],
   "source": [
    "#Get results by dataset for poly kernel\n",
    "svr_results = []\n",
    "for xtrain_tf, xvalid_tf in x_tfs:\n",
    "    svr = SVR(kernel='poly')\n",
    "    svr.fit(xtrain_tf, ytrain)\n",
    "    predictions = svr.predict(xvalid_tf)\n",
    "    _, mse = model_performance(predictions, yvalid, print_output=True)\n",
    "    svr_results.append(f'| MSE: {mse:.4f} | RMSE: {np.sqrt(mse):.4f} |')\n",
    "\n",
    "model_results[\"SVR\"] = svr_results\n",
    "\n",
    "# print out results\n",
    "display_with_panda(svr_results)"
   ]
  },
  {
   "cell_type": "markdown",
   "metadata": {},
   "source": [
    "**7. Testing with the Best Model**"
   ]
  },
  {
   "cell_type": "code",
   "execution_count": null,
   "metadata": {},
   "outputs": [],
   "source": [
    "# train on the no stop word preprocessing with SVR poly kernel\n",
    "xtrain_tf, _ =x_tfs[0]\n",
    "\n",
    "svr = SVR(kernel='poly')\n",
    "svr.fit(xtrain_tf, ytrain)"
   ]
  },
  {
   "cell_type": "code",
   "execution_count": null,
   "metadata": {},
   "outputs": [],
   "source": [
    "# predict on the test set for best performing model.\n",
    "test_tf = tfidfconverter_nostopword.transform(modified_test_df['full_edited']).toarray()\n",
    "predictions = svr.predict(test_tf)\n",
    "_, mse = model_performance(predictions, task1_truth.meanGrade, print_output=True)\n",
    "print((f'| MSE: {mse:.4f} | RMSE: {np.sqrt(mse):.4f} |'))"
   ]
  }
 ],
 "metadata": {
  "kernelspec": {
   "display_name": "Python 3",
   "language": "python",
   "name": "python3"
  },
  "language_info": {
   "codemirror_mode": {
    "name": "ipython",
    "version": 3
   },
   "file_extension": ".py",
   "mimetype": "text/x-python",
   "name": "python",
   "nbconvert_exporter": "python",
   "pygments_lexer": "ipython3",
   "version": "3.7.4"
  }
 },
 "nbformat": 4,
 "nbformat_minor": 4
}
