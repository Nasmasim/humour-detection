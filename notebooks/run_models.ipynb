{
 "cells": [
  {
   "cell_type": "code",
   "execution_count": 4,
   "metadata": {},
   "outputs": [],
   "source": [
    "from utils import metrics"
   ]
  },
  {
   "cell_type": "code",
   "execution_count": 6,
   "metadata": {},
   "outputs": [],
   "source": [
    "import torch\n",
    "import torch.nn as nn\n",
    "from torch.utils.data import random_split\n",
    "\n",
    "import pandas as pd\n",
    "import numpy as np\n",
    "\n",
    "import nltk\n",
    "from nltk.corpus import stopwords\n",
    "\n",
    "from transformers import BertTokenizer, BertModel\n",
    "\n",
    "from preprocessing.preprocessor import (create_edited_sentences, dataset_question_full_processing,\n",
    "                                        create_custom_vocab)\n",
    "\n",
    "from dataloaders.data_loaders import (Task1Dataset, collate_fn_padd, get_input_bert,\n",
    "                                      get_dataloaders, get_dataloaders_no_random_split)\n",
    "\n",
    "from utils.plot import (plot_sentence_length_stopwords, plot_mean_grade_distribution,\n",
    "                        plot_number_characters, plot_number_words, plot_top_ngrams, \n",
    "                        plot_loss_vs_epochs)\n",
    "from utils.ngrams import get_top_ngram\n",
    "from utils.vocab import create_vocab, get_word2idx\n",
    "\n",
    "from models.biLSTM import BiLSTM\n",
    "from models.BERT_FFNN import FFNN\n",
    "from models.BERT_CNN import CNN\n",
    "from trainer.biLSTM_trainer import biLSTM_train, biLSTM_eval\n",
    "from trainer.BERT_trainer import bert_eval, bert_train\n",
    "\n",
    " \n"
   ]
  }
 ],
 "metadata": {
  "kernelspec": {
   "display_name": "Python 3",
   "language": "python",
   "name": "python3"
  },
  "language_info": {
   "codemirror_mode": {
    "name": "ipython",
    "version": 3
   },
   "file_extension": ".py",
   "mimetype": "text/x-python",
   "name": "python",
   "nbconvert_exporter": "python",
   "pygments_lexer": "ipython3",
   "version": "3.7.4"
  }
 },
 "nbformat": 4,
 "nbformat_minor": 4
}
