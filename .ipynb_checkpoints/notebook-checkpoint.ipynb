{
 "cells": [
  {
   "cell_type": "code",
   "execution_count": 1,
   "metadata": {},
   "outputs": [
    {
     "name": "stdout",
     "output_type": "stream",
     "text": [
      "/bin/sh: nvidia-smi: command not found\n",
      "File ‘glove.6B.zip’ already there; not retrieving.\n",
      "Archive:  glove.6B.zip\n",
      "mkdir: data: File exists\n",
      "mkdir: data/task-1: File exists\n"
     ]
    }
   ],
   "source": [
    "#@title Download and Install\n",
    "# Check GPU (taken from colab_00_introduction.ipynb)\n",
    "!nvidia-smi\n",
    "\n",
    "# Baseline data collection\n",
    "!wget -nc http://nlp.stanford.edu/data/glove.6B.zip -O glove.6B.zip\n",
    "!unzip -n glove.6B.zip\n",
    "\n",
    "# Downloading dataset from sylvie's google drive\n",
    "!mkdir \"data\"  \n",
    "!mkdir \"data/task-1\"\n",
    "\n",
    "!wget --no-check-certificate -q -nc 'https://docs.google.com/uc?export=download&id=17Jze3aJcUt8q90vFcf2DEOdRDu0AxQn6' -O data/task-1/dev.csv\n",
    "!wget --no-check-certificate -q -nc 'https://docs.google.com/uc?export=download&id=1-saF2SoWt9drCG9yoAt2FwS4y0d8-mFR' -O data/task-1/train.csv\n",
    "!wget --no-check-certificate -q -nc 'https://docs.google.com/uc?export=download&id=1eYT1P5qwC9YHw77hd0x2gwzTpoIwq9VO' -O data/task-1/test.csv\n",
    "!wget --no-check-certificate -q -nc 'https://docs.google.com/uc?export=download&id=1iirIIj5xOaLqYphCXWgzfaW3X2O-DAGO' -O data/task-1/truth.csv\n",
    "\n",
    "# installing transformers\n",
    "!pip -q install transformers\n",
    "!pip -q install nltk"
   ]
  },
  {
   "cell_type": "code",
   "execution_count": 2,
   "metadata": {},
   "outputs": [],
   "source": [
    "import torch\n",
    "import pandas as pd\n",
    "import nltk\n",
    "from nltk.corpus import stopwords\n"
   ]
  },
  {
   "cell_type": "code",
   "execution_count": 3,
   "metadata": {},
   "outputs": [],
   "source": [
    "#@title Torch Settings\n",
    "# Setting random seed and device\n",
    "SEED = 1\n",
    "\n",
    "torch.manual_seed(SEED)\n",
    "torch.cuda.manual_seed(SEED)\n",
    "torch.backends.cudnn.deterministic = True\n",
    "\n",
    "use_cuda = torch.cuda.is_available()\n",
    "device = torch.device(\"cuda:0\" if use_cuda else \"cpu\")\n",
    "\n",
    "# Number of epochs\n",
    "epochs_bl = 10 \n",
    "epochs = 100\n",
    "\n",
    "# Proportion of training data for train compared to dev\n",
    "train_proportion = 0.8"
   ]
  },
  {
   "cell_type": "code",
   "execution_count": 4,
   "metadata": {},
   "outputs": [],
   "source": [
    "from preprocessing import create_edited_sentences, get_stop_words\n",
    "# Load data\n",
    "train_df = pd.read_csv('data/task-1/train.csv')\n",
    "dev_df = pd.read_csv('data/task-1/dev.csv')\n",
    "test_df = pd.read_csv('data/task-1/test.csv')\n",
    "\n",
    "# Convert them to full edited sentences\n",
    "modified_train_df = create_edited_sentences(train_df)\n",
    "modified_valid_df = create_edited_sentences(dev_df)\n",
    "modified_test_df = create_edited_sentences(test_df)"
   ]
  },
  {
   "cell_type": "code",
   "execution_count": 5,
   "metadata": {},
   "outputs": [
    {
     "name": "stdout",
     "output_type": "stream",
     "text": [
      "simple_stop_words length: 25\n",
      "custom_stop_words length: 174\n",
      "nltk_stop_words length: 179\n",
      "all_stop_words length: 211\n"
     ]
    },
    {
     "name": "stderr",
     "output_type": "stream",
     "text": [
      "[nltk_data] Downloading package stopwords to\n",
      "[nltk_data]     /Users/nasmadasser/nltk_data...\n",
      "[nltk_data]   Package stopwords is already up-to-date!\n"
     ]
    }
   ],
   "source": [
    "# Define different lists of stop words\n",
    "\n",
    "# Simple stop word list\n",
    "simple_stopwords=[\"a\",\"an\",\"and\",\"as\",\"at\",\"below\",\"between\",\"by\",\"in\",\"of\",\"on\",\n",
    "                   \"the\",\"over\",\"out\",\"that\",\"to\",\"up\",\"very\",\"what\",\"when\",\"under\",\n",
    "                   \"while\",\"who\",\"whom\",\"with\"]\n",
    "\n",
    "# Custom stop word list\n",
    "custom_stopwords=['a', 'about', 'above', 'after' , 'again' , 'against', 'all', 'am', 'an' , 'and', 'any', 'are',\n",
    "              'aren\\'t', 'as', 'at', 'be', 'because', 'been', 'before', 'being', 'below', 'between', 'both', 'but', 'by', 'can\\'t', 'cannot', 'could',\n",
    "              'couldn\\'t', 'did', 'didn\\'t', 'do', 'does', 'doesn\\'t', 'doing', 'don\\'t', 'down', 'during', 'each', 'few', 'for', 'from', 'further',\n",
    "              'had', 'hadn\\'t', 'has', 'hasn\\'t', 'have', 'haven\\'t', 'having', 'he', 'he\\'d', 'he\\'ll', 'he\\'s', 'her', 'here', 'here\\'s', 'hers', 'herself',\n",
    "              'him', 'himself', 'his', 'how', 'how\\'s', 'i', 'i\\'d', 'i\\'ll', 'i\\'m', 'i\\'ve', 'if', 'in', 'into', 'is', 'isn\\'t', 'it',  'it\\'s', 'its', 'itself',\n",
    "              'let\\'s', 'me', 'more', 'most', 'mustn\\'t', 'my', 'myself', 'no', 'nor', 'not', 'of', 'off', 'on', 'once', 'only', 'or', 'other', 'ought', 'our',\n",
    "              'ours', 'ourselves', 'out', 'over', 'own', 'same', 'shan\\'t', 'she', 'she\\'d', 'she\\'ll', 'she\\'s', 'should', 'shouldn\\'t', 'so',\n",
    "              'some', 'such', 'than', 'that', 'that\\'s', 'the', 'their', 'theirs', 'them', 'themselves', 'then', 'there', 'there\\'s', 'these',\n",
    "              'they', 'they\\'d', 'they\\'ll', 'they\\'re', 'they\\'ve', 'this', 'those', 'through', 'to', 'too', 'under', 'until', 'up', 'very', 'was', 'wasn\\'t',\n",
    "              'we', 'we\\'d', 'we\\'ll', 'we\\'re', 'we\\'ve', 'were', 'weren\\'t', 'what', 'what\\'s', 'when', 'when\\'s', 'where', 'where\\'s', 'which',\n",
    "              'while', 'who', 'who\\'s', 'whom', 'why', 'why\\'s', 'with', 'won\\'t', 'would', 'wouldn\\'t', 'you', 'you\\'d', 'you\\'ll', 'you\\'re',\n",
    "              'you\\'ve', 'your', 'yours', 'yourself', 'yourselves']\n",
    "\n",
    "# nltk stopwords english list\n",
    "nltk.download('stopwords')\n",
    "nltk_stopwords = list(stopwords.words('english'))\n",
    "all_stopwords = list(set(custom_stopwords + nltk_stopwords))\n",
    "\n",
    "stopwords_lists = [[],simple_stopwords, custom_stopwords,nltk_stopwords,\\\n",
    "                   all_stopwords]\n",
    "\n",
    "print(\"simple_stop_words length: \"+str(len(simple_stopwords)))\n",
    "print(\"custom_stop_words length: \"+str(len(custom_stopwords)))\n",
    "print(\"nltk_stop_words length: \"+str(len(nltk_stopwords)))\n",
    "print(\"all_stop_words length: \"+str(len(all_stopwords)))"
   ]
  },
  {
   "cell_type": "code",
   "execution_count": 6,
   "metadata": {},
   "outputs": [],
   "source": [
    "from preprocessing import dataset_question_full_processing\n",
    "edited_modes = ['question_edited','full_edited']\n",
    "\n",
    "modified_train_df = dataset_question_full_processing(modified_train_df)\n",
    "modified_valid_df = dataset_question_full_processing(modified_valid_df)\n",
    "modified_test_df = dataset_question_full_processing(modified_test_df)\n"
   ]
  },
  {
   "cell_type": "code",
   "execution_count": 7,
   "metadata": {},
   "outputs": [
    {
     "data": {
      "text/html": [
       "<div>\n",
       "<style scoped>\n",
       "    .dataframe tbody tr th:only-of-type {\n",
       "        vertical-align: middle;\n",
       "    }\n",
       "\n",
       "    .dataframe tbody tr th {\n",
       "        vertical-align: top;\n",
       "    }\n",
       "\n",
       "    .dataframe thead th {\n",
       "        text-align: right;\n",
       "    }\n",
       "</style>\n",
       "<table border=\"1\" class=\"dataframe\">\n",
       "  <thead>\n",
       "    <tr style=\"text-align: right;\">\n",
       "      <th></th>\n",
       "      <th>id</th>\n",
       "      <th>meanGrade</th>\n",
       "      <th>edited</th>\n",
       "      <th>question_edited</th>\n",
       "      <th>full_edited</th>\n",
       "    </tr>\n",
       "  </thead>\n",
       "  <tbody>\n",
       "    <tr>\n",
       "      <td>0</td>\n",
       "      <td>14530</td>\n",
       "      <td>0.2</td>\n",
       "      <td>France is ‘ hunting down its citizens who join...</td>\n",
       "      <td>france is hunting down its citizens who joined...</td>\n",
       "      <td>france is hunting down its citizens who joined...</td>\n",
       "    </tr>\n",
       "    <tr>\n",
       "      <td>1</td>\n",
       "      <td>13034</td>\n",
       "      <td>1.6</td>\n",
       "      <td>Pentagon claims 2,000 % increase in Russian tr...</td>\n",
       "      <td>pentagon claims 2000 increase in russian troll...</td>\n",
       "      <td>pentagon claims 2000 increase in russian troll...</td>\n",
       "    </tr>\n",
       "    <tr>\n",
       "      <td>2</td>\n",
       "      <td>8731</td>\n",
       "      <td>1.0</td>\n",
       "      <td>Iceland PM Calls Snap Vote as Pedophile Furor ...</td>\n",
       "      <td>iceland pm calls snap vote as pedophile furor ...</td>\n",
       "      <td>iceland pm calls snap vote as pedophile furor ...</td>\n",
       "    </tr>\n",
       "    <tr>\n",
       "      <td>3</td>\n",
       "      <td>76</td>\n",
       "      <td>0.4</td>\n",
       "      <td>In an apparent first , Iran and Israel slap ea...</td>\n",
       "      <td>in an apparent first iran and israel slap each...</td>\n",
       "      <td>in an apparent first iran and israel slap each...</td>\n",
       "    </tr>\n",
       "    <tr>\n",
       "      <td>4</td>\n",
       "      <td>6164</td>\n",
       "      <td>0.0</td>\n",
       "      <td>Trump was told weeks ago that Flynn misled sch...</td>\n",
       "      <td>trump was told weeks ago that flynn misled sch...</td>\n",
       "      <td>trump was told weeks ago that flynn misled sch...</td>\n",
       "    </tr>\n",
       "  </tbody>\n",
       "</table>\n",
       "</div>"
      ],
      "text/plain": [
       "      id  meanGrade                                             edited  \\\n",
       "0  14530        0.2  France is ‘ hunting down its citizens who join...   \n",
       "1  13034        1.6  Pentagon claims 2,000 % increase in Russian tr...   \n",
       "2   8731        1.0  Iceland PM Calls Snap Vote as Pedophile Furor ...   \n",
       "3     76        0.4  In an apparent first , Iran and Israel slap ea...   \n",
       "4   6164        0.0  Trump was told weeks ago that Flynn misled sch...   \n",
       "\n",
       "                                     question_edited  \\\n",
       "0  france is hunting down its citizens who joined...   \n",
       "1  pentagon claims 2000 increase in russian troll...   \n",
       "2  iceland pm calls snap vote as pedophile furor ...   \n",
       "3  in an apparent first iran and israel slap each...   \n",
       "4  trump was told weeks ago that flynn misled sch...   \n",
       "\n",
       "                                         full_edited  \n",
       "0  france is hunting down its citizens who joined...  \n",
       "1  pentagon claims 2000 increase in russian troll...  \n",
       "2  iceland pm calls snap vote as pedophile furor ...  \n",
       "3  in an apparent first iran and israel slap each...  \n",
       "4  trump was told weeks ago that flynn misled sch...  "
      ]
     },
     "execution_count": 7,
     "metadata": {},
     "output_type": "execute_result"
    }
   ],
   "source": [
    "modified_train_df.head()"
   ]
  },
  {
   "cell_type": "code",
   "execution_count": 7,
   "metadata": {},
   "outputs": [],
   "source": [
    "import numpy as np\n",
    "from preprocessing import create_custom_vocab\n",
    "\n",
    "series = []\n",
    "vocabularies_sizes = []\n",
    "for stopwords in stopwords_lists:\n",
    "  modified_vocab_train, modified_corpus_train, word_to_idx = create_custom_vocab(modified_train_df['question_edited'], stopwords)\n",
    "  vocabularies_sizes.append(len(modified_vocab_train))\n",
    "  sentence_lengths = []\n",
    "  for sentence in modified_corpus_train:\n",
    "    sentence_lengths.append(len(sentence))\n",
    "  values, counts = np.unique(sentence_lengths,return_counts=True)\n",
    "  frequence = np.zeros(max(values)+1)\n",
    "  for i in range(len(values)):\n",
    "    frequence[values[i]]=counts[i]\n",
    "  series.append(list(frequence))\n",
    "\n",
    "\n",
    "# Extend series with 0\n",
    "list_maxlen = 0\n",
    "for sentence_lengths in series:\n",
    "  list_maxlen = max(len(sentence_lengths),list_maxlen)\n",
    "for i in range(len(series)):\n",
    "  series[i] = series[i] + [0 for i in range(list_maxlen-len(series[i]))]"
   ]
  },
  {
   "cell_type": "code",
   "execution_count": 8,
   "metadata": {},
   "outputs": [
    {
     "name": "stdout",
     "output_type": "stream",
     "text": [
      "[10667, 10642, 10553, 10539, 10537]\n"
     ]
    },
    {
     "data": {
      "text/plain": [
       "<Figure size 640x480 with 1 Axes>"
      ]
     },
     "metadata": {},
     "output_type": "display_data"
    }
   ],
   "source": [
    "from utils_plot import plot_sentence_length_stopwords\n",
    "print(vocabularies_sizes)\n",
    "X = np.arange(list_maxlen)\n",
    "plot_sentence_length_stopwords(X, series)"
   ]
  },
  {
   "cell_type": "code",
   "execution_count": 10,
   "metadata": {},
   "outputs": [
    {
     "name": "stdout",
     "output_type": "stream",
     "text": [
      "Requirement already satisfied: seaborn in /opt/anaconda3/lib/python3.8/site-packages (0.11.1)\n",
      "Requirement already satisfied: matplotlib>=2.2 in /opt/anaconda3/lib/python3.8/site-packages (from seaborn) (3.3.2)\n",
      "Requirement already satisfied: numpy>=1.15 in /opt/anaconda3/lib/python3.8/site-packages (from seaborn) (1.19.2)\n",
      "Requirement already satisfied: scipy>=1.0 in /opt/anaconda3/lib/python3.8/site-packages (from seaborn) (1.5.2)\n",
      "Requirement already satisfied: pandas>=0.23 in /opt/anaconda3/lib/python3.8/site-packages (from seaborn) (1.1.3)\n",
      "Requirement already satisfied: python-dateutil>=2.1 in /opt/anaconda3/lib/python3.8/site-packages (from matplotlib>=2.2->seaborn) (2.8.1)\n",
      "Requirement already satisfied: cycler>=0.10 in /opt/anaconda3/lib/python3.8/site-packages (from matplotlib>=2.2->seaborn) (0.10.0)\n",
      "Requirement already satisfied: certifi>=2020.06.20 in /opt/anaconda3/lib/python3.8/site-packages (from matplotlib>=2.2->seaborn) (2020.12.5)\n",
      "Requirement already satisfied: pillow>=6.2.0 in /opt/anaconda3/lib/python3.8/site-packages (from matplotlib>=2.2->seaborn) (8.1.1)\n",
      "Requirement already satisfied: kiwisolver>=1.0.1 in /opt/anaconda3/lib/python3.8/site-packages (from matplotlib>=2.2->seaborn) (1.3.0)\n",
      "Requirement already satisfied: pyparsing!=2.0.4,!=2.1.2,!=2.1.6,>=2.0.3 in /opt/anaconda3/lib/python3.8/site-packages (from matplotlib>=2.2->seaborn) (2.4.7)\n",
      "Requirement already satisfied: six in /opt/anaconda3/lib/python3.8/site-packages (from cycler>=0.10->matplotlib>=2.2->seaborn) (1.15.0)\n",
      "Requirement already satisfied: pytz>=2017.2 in /opt/anaconda3/lib/python3.8/site-packages (from pandas>=0.23->seaborn) (2020.1)\n"
     ]
    }
   ],
   "source": [
    "!pip install -U seaborn"
   ]
  },
  {
   "cell_type": "code",
   "execution_count": 11,
   "metadata": {},
   "outputs": [
    {
     "ename": "AttributeError",
     "evalue": "module 'seaborn' has no attribute 'histplot'",
     "output_type": "error",
     "traceback": [
      "\u001b[0;31m---------------------------------------------------------------------------\u001b[0m",
      "\u001b[0;31mAttributeError\u001b[0m                            Traceback (most recent call last)",
      "\u001b[0;32m<ipython-input-11-c90d4788f85e>\u001b[0m in \u001b[0;36m<module>\u001b[0;34m\u001b[0m\n\u001b[1;32m      1\u001b[0m \u001b[0;32mfrom\u001b[0m \u001b[0mutils_plot\u001b[0m \u001b[0;32mimport\u001b[0m \u001b[0mplot_mean_grade_distribution\u001b[0m\u001b[0;34m,\u001b[0m \u001b[0mplot_number_characters\u001b[0m\u001b[0;34m,\u001b[0m \u001b[0mplot_number_words\u001b[0m\u001b[0;34m\u001b[0m\u001b[0;34m\u001b[0m\u001b[0m\n\u001b[0;32m----> 2\u001b[0;31m \u001b[0mplot_mean_grade_distribution\u001b[0m\u001b[0;34m(\u001b[0m\u001b[0mmodified_train_df\u001b[0m\u001b[0;34m)\u001b[0m\u001b[0;34m\u001b[0m\u001b[0;34m\u001b[0m\u001b[0m\n\u001b[0m\u001b[1;32m      3\u001b[0m \u001b[0mplot_number_characters\u001b[0m\u001b[0;34m(\u001b[0m\u001b[0mmodified_train_df\u001b[0m\u001b[0;34m)\u001b[0m\u001b[0;34m\u001b[0m\u001b[0;34m\u001b[0m\u001b[0m\n\u001b[1;32m      4\u001b[0m \u001b[0mplot_number_words\u001b[0m\u001b[0;34m(\u001b[0m\u001b[0mmodified_train_df\u001b[0m\u001b[0;34m)\u001b[0m\u001b[0;34m\u001b[0m\u001b[0;34m\u001b[0m\u001b[0m\n",
      "\u001b[0;32m~/Documents/Imperial_College/FS21/natural_language_processing/coursework/github/humour-detection/utils_plot.py\u001b[0m in \u001b[0;36mplot_mean_grade_distribution\u001b[0;34m(modified_train_df)\u001b[0m\n\u001b[1;32m     15\u001b[0m \u001b[0;34m\u001b[0m\u001b[0m\n\u001b[1;32m     16\u001b[0m \u001b[0;32mdef\u001b[0m \u001b[0mplot_mean_grade_distribution\u001b[0m\u001b[0;34m(\u001b[0m\u001b[0mmodified_train_df\u001b[0m\u001b[0;34m)\u001b[0m\u001b[0;34m:\u001b[0m\u001b[0;34m\u001b[0m\u001b[0;34m\u001b[0m\u001b[0m\n\u001b[0;32m---> 17\u001b[0;31m     \u001b[0msns\u001b[0m\u001b[0;34m.\u001b[0m\u001b[0mhistplot\u001b[0m\u001b[0;34m(\u001b[0m\u001b[0mmodified_train_df\u001b[0m\u001b[0;34m.\u001b[0m\u001b[0mmeanGrade\u001b[0m\u001b[0;34m,\u001b[0m \u001b[0mkde\u001b[0m\u001b[0;34m=\u001b[0m\u001b[0;32mTrue\u001b[0m\u001b[0;34m,\u001b[0m \u001b[0mcolor\u001b[0m \u001b[0;34m=\u001b[0m \u001b[0;34m'grey'\u001b[0m\u001b[0;34m)\u001b[0m\u001b[0;34m\u001b[0m\u001b[0;34m\u001b[0m\u001b[0m\n\u001b[0m\u001b[1;32m     18\u001b[0m     \u001b[0mplt\u001b[0m\u001b[0;34m.\u001b[0m\u001b[0mshow\u001b[0m\u001b[0;34m(\u001b[0m\u001b[0;34m)\u001b[0m\u001b[0;34m\u001b[0m\u001b[0;34m\u001b[0m\u001b[0m\n\u001b[1;32m     19\u001b[0m \u001b[0;34m\u001b[0m\u001b[0m\n",
      "\u001b[0;31mAttributeError\u001b[0m: module 'seaborn' has no attribute 'histplot'"
     ]
    }
   ],
   "source": [
    "from utils_plot import plot_mean_grade_distribution, plot_number_characters, plot_number_words\n",
    "plot_mean_grade_distribution(modified_train_df)\n",
    "plot_number_characters(modified_train_df)\n",
    "plot_number_words(modified_train_df)"
   ]
  },
  {
   "cell_type": "code",
   "execution_count": 9,
   "metadata": {},
   "outputs": [
    {
     "data": {
      "image/png": "[encoded data removed]",
      "text/plain": [
       "<Figure size 432x288 with 1 Axes>"
      ]
     },
     "metadata": {
      "needs_background": "light"
     },
     "output_type": "display_data"
    }
   ],
   "source": [
    "from utils_analysis import get_top_ngram\n",
    "from utils_plot import plot_top_ngrams\n",
    "top_n_bigrams=get_top_ngram(modified_train_df.edited,2)[:10]\n",
    "plot_top_ngrams(top_n_bigrams)\n"
   ]
  },
  {
   "cell_type": "code",
   "execution_count": 10,
   "metadata": {},
   "outputs": [],
   "source": [
    "#@title Word2idx call on the original sentences\n",
    "## Approach 1 code, using functions defined above:\n",
    "\n",
    "# We set our training data and test data\n",
    "training_data = train_df['original']\n",
    "test_data = dev_df['original']"
   ]
  },
  {
   "cell_type": "code",
   "execution_count": 11,
   "metadata": {},
   "outputs": [
    {
     "name": "stdout",
     "output_type": "stream",
     "text": [
      "Vocab created.\n"
     ]
    }
   ],
   "source": [
    "from utils_tokenize import create_vocab\n",
    "# Creating word vectors\n",
    "training_vocab, training_tokenized_corpus = create_vocab(training_data)\n",
    "test_vocab, test_tokenized_corpus = create_vocab(test_data)\n",
    "# Creating joint vocab from test and train:\n",
    "joint_vocab, joint_tokenized_corpus = create_vocab(pd.concat([training_data, test_data]))\n",
    "print(\"Vocab created.\")"
   ]
  },
  {
   "cell_type": "code",
   "execution_count": 12,
   "metadata": {},
   "outputs": [],
   "source": [
    "from utils_tokenize import get_word2idx\n",
    "\n",
    "file_path ='glove.6B.100d.txt'\n",
    "wvecs, word2idx, idx2word= get_word2idx(file_path, joint_vocab)\n",
    "\n",
    "vectorized_seqs = [[word2idx[tok] for tok in seq if tok in word2idx] for seq in training_tokenized_corpus]\n",
    "\n",
    "# To avoid any sentences being empty (if no words match to our word embeddings)\n",
    "vectorized_seqs = [x if len(x) > 0 else [0] for x in vectorized_seqs]"
   ]
  },
  {
   "cell_type": "code",
   "execution_count": 15,
   "metadata": {},
   "outputs": [],
   "source": [
    "from biLSTM import BiLSTM\n",
    "from train_eval import Task1Dataset, _train, _eval\n",
    "from torch.utils.data import random_split\n",
    "from utils_tokenize import collate_fn_padd\n",
    "import torch.nn as nn"
   ]
  },
  {
   "cell_type": "code",
   "execution_count": 16,
   "metadata": {},
   "outputs": [
    {
     "name": "stdout",
     "output_type": "stream",
     "text": [
      "Model initialised.\n",
      "Dataloaders created.\n"
     ]
    }
   ],
   "source": [
    "#@title Train BiLSTM on original sentences\n",
    "INPUT_DIM = len(word2idx)\n",
    "EMBEDDING_DIM = 100\n",
    "BATCH_SIZE = 32\n",
    "\n",
    "model = BiLSTM(EMBEDDING_DIM, 50, INPUT_DIM, BATCH_SIZE, device)\n",
    "print(\"Model initialised.\")\n",
    "\n",
    "model.to(device)\n",
    "# We provide the model with our embeddings\n",
    "model.embedding.weight.data.copy_(torch.from_numpy(wvecs))\n",
    "\n",
    "feature = vectorized_seqs\n",
    "\n",
    "# 'feature' is a list of lists, each containing embedding IDs for word tokens\n",
    "train_and_dev = Task1Dataset(feature, train_df['meanGrade'])\n",
    "\n",
    "train_examples = round(len(train_and_dev)*train_proportion)\n",
    "dev_examples = len(train_and_dev) - train_examples\n",
    "\n",
    "train_dataset, dev_dataset = random_split(train_and_dev,\n",
    "                                           (train_examples,\n",
    "                                            dev_examples))\n",
    "\n",
    "train_loader = torch.utils.data.DataLoader(train_dataset, shuffle=True, batch_size=BATCH_SIZE, collate_fn=collate_fn_padd)\n",
    "dev_loader = torch.utils.data.DataLoader(dev_dataset, batch_size=BATCH_SIZE, collate_fn=collate_fn_padd)\n",
    "\n",
    "print(\"Dataloaders created.\")\n",
    "\n",
    "loss_fn = nn.MSELoss()\n",
    "loss_fn = loss_fn.to(device)\n",
    "\n",
    "optimizer = torch.optim.Adam(model.parameters())\n",
    "\n",
    "#train(train_loader, dev_loader, model, epochs_bl)"
   ]
  },
  {
   "cell_type": "code",
   "execution_count": 15,
   "metadata": {},
   "outputs": [
    {
     "name": "stdout",
     "output_type": "stream",
     "text": [
      "Training model.\n",
      "| Epoch: 01 | Train Loss: 0.36 | Train MSE: 0.36 | Train RMSE: 0.60 |         Val. Loss: 0.34 | Val. MSE: 0.34 |  Val. RMSE: 0.58 |\n",
      "| Epoch: 02 | Train Loss: 0.35 | Train MSE: 0.35 | Train RMSE: 0.59 |         Val. Loss: 0.34 | Val. MSE: 0.34 |  Val. RMSE: 0.58 |\n",
      "| Epoch: 03 | Train Loss: 0.34 | Train MSE: 0.34 | Train RMSE: 0.59 |         Val. Loss: 0.34 | Val. MSE: 0.34 |  Val. RMSE: 0.58 |\n",
      "| Epoch: 04 | Train Loss: 0.34 | Train MSE: 0.34 | Train RMSE: 0.58 |         Val. Loss: 0.34 | Val. MSE: 0.34 |  Val. RMSE: 0.58 |\n",
      "| Epoch: 05 | Train Loss: 0.33 | Train MSE: 0.33 | Train RMSE: 0.58 |         Val. Loss: 0.34 | Val. MSE: 0.34 |  Val. RMSE: 0.58 |\n",
      "| Epoch: 06 | Train Loss: 0.29 | Train MSE: 0.29 | Train RMSE: 0.54 |         Val. Loss: 0.35 | Val. MSE: 0.35 |  Val. RMSE: 0.59 |\n",
      "| Epoch: 07 | Train Loss: 0.26 | Train MSE: 0.26 | Train RMSE: 0.51 |         Val. Loss: 0.36 | Val. MSE: 0.36 |  Val. RMSE: 0.60 |\n",
      "| Epoch: 08 | Train Loss: 0.24 | Train MSE: 0.24 | Train RMSE: 0.49 |         Val. Loss: 0.37 | Val. MSE: 0.37 |  Val. RMSE: 0.61 |\n",
      "| Epoch: 09 | Train Loss: 0.23 | Train MSE: 0.23 | Train RMSE: 0.48 |         Val. Loss: 0.38 | Val. MSE: 0.38 |  Val. RMSE: 0.61 |\n",
      "| Epoch: 10 | Train Loss: 0.22 | Train MSE: 0.22 | Train RMSE: 0.47 |         Val. Loss: 0.38 | Val. MSE: 0.38 |  Val. RMSE: 0.62 |\n"
     ]
    }
   ],
   "source": [
    "_train(train_loader, dev_loader, model, epochs_bl, device, optimizer, loss_fn)"
   ]
  },
  {
   "cell_type": "markdown",
   "metadata": {},
   "source": [
    "**Bert Preprocessing**"
   ]
  },
  {
   "cell_type": "code",
   "execution_count": 17,
   "metadata": {},
   "outputs": [],
   "source": [
    "from transformers import BertTokenizer, BertModel\n",
    "\n",
    "# Bert download\n",
    "tokenizer = BertTokenizer.from_pretrained('bert-base-uncased')\n",
    "bert_model = BertModel.from_pretrained('bert-base-uncased')"
   ]
  },
  {
   "cell_type": "code",
   "execution_count": 19,
   "metadata": {},
   "outputs": [],
   "source": [
    "from BERT_preprocessing import get_input_bert\n",
    "from BERT_train_eval import bert_eval, bert_train\n",
    "from BERT_dataloaders import get_dataloaders, get_dataloaders_no_random_split \n",
    "from BERT_FFNN import FFNN\n",
    "from BERT_CNN import CNN"
   ]
  },
  {
   "cell_type": "code",
   "execution_count": 24,
   "metadata": {},
   "outputs": [
    {
     "name": "stdout",
     "output_type": "stream",
     "text": [
      "Model initialised.\n",
      "Dataloaders created.\n"
     ]
    }
   ],
   "source": [
    "## FFNN question-sentence preprocessing\n",
    "\n",
    "BATCH_SIZE = 64\n",
    "\n",
    "bert_ffnn = FFNN()\n",
    "print(\"Model initialised.\")\n",
    "\n",
    "bert_ffnn.to(device)\n",
    "\n",
    "# Get inputs for BERT and data loaders\n",
    "input_id_mask_train = get_input_bert(df=modified_train_df, tokenizer = tokenizer, col=\"question_edited\")\n",
    "\n",
    "input_id_mask_valid = get_input_bert(df= modified_valid_df, tokenizer=tokenizer, col =\"question_edited\") \n",
    "\n",
    "train_loader, dev_loader = get_dataloaders_no_random_split(input_data_train=input_id_mask_train, \n",
    "                                                            targets_train=modified_train_df['meanGrade'],\n",
    "                                                            input_data_valid=input_id_mask_valid,\n",
    "                                                            targets_valid=modified_valid_df['meanGrade'], \n",
    "                                                            batch_size = BATCH_SIZE) \n",
    "\n",
    "print(\"Dataloaders created.\")\n",
    "# calculate loss\n",
    "loss_fn = nn.MSELoss()\n",
    "loss_fn = loss_fn.to(device)\n",
    "\n",
    "optimizer_ff = torch.optim.Adam(bert_ffnn.parameters(), lr=1e-5)\n",
    "\n",
    "bert_model = bert_model.to(device=device)"
   ]
  },
  {
   "cell_type": "code",
   "execution_count": 26,
   "metadata": {},
   "outputs": [
    {
     "name": "stdout",
     "output_type": "stream",
     "text": [
      "Training model.\n",
      "| Epoch: 01 | Train Loss: 1.22 | Train MSE: 1.22 | Train RMSE: 1.10 |         Val. Loss: 1.2083 | Val. MSE: 1.2083 |  Val. RMSE: 1.0992 |\n",
      "Found a better model, saving ... \n"
     ]
    }
   ],
   "source": [
    "question_train_losses_ff, question_valid_losses_ff = bert_train(\n",
    "     optimizer=optimizer_ff, \n",
    "     train_iter=train_loader, \n",
    "     dev_iter=dev_loader, \n",
    "     model=bert_ffnn,\n",
    "     loss_fn=loss_fn,\n",
    "     device= device, \n",
    "     number_epoch = 1,     \n",
    "     model_name='task1_question_ffnn.pt', \n",
    "     patience=5, )"
   ]
  },
  {
   "cell_type": "code",
   "execution_count": 27,
   "metadata": {},
   "outputs": [
    {
     "name": "stdout",
     "output_type": "stream",
     "text": [
      "Model initialised.\n",
      "Dataloaders created.\n"
     ]
    }
   ],
   "source": [
    "## FFNN Full-sentence preprocessing\n",
    "\n",
    "BATCH_SIZE = 64\n",
    "\n",
    "bert_ffnn_full = FFNN()\n",
    "print(\"Model initialised.\")\n",
    "\n",
    "bert_ffnn_full.to(device)\n",
    "\n",
    "# Get inputs for BERT and data loaders\n",
    "input_id_mask_train = get_input_bert(df= modified_train_df, tokenizer= tokenizer, col= \"full_edited\")\n",
    "input_id_mask_valid = get_input_bert(df= modified_valid_df, tokenizer= tokenizer, col= \"full_edited\") \n",
    "train_loader, dev_loader = get_dataloaders_no_random_split(\n",
    "    input_data_train=input_id_mask_train, \n",
    "    targets_train=modified_train_df['meanGrade'],\n",
    "    input_data_valid=input_id_mask_valid,\n",
    "    targets_valid=modified_valid_df['meanGrade'], \n",
    "    batch_size = BATCH_SIZE) \n",
    "print(\"Dataloaders created.\")\n",
    "# calculate loss\n",
    "loss_fn = nn.MSELoss()\n",
    "loss_fn = loss_fn.to(device)\n",
    "\n",
    "optimizer_ff_full = torch.optim.Adam(bert_ffnn_full.parameters(), lr=1e-5)\n",
    "\n",
    "bert_model = bert_model.to(device=device)"
   ]
  },
  {
   "cell_type": "code",
   "execution_count": 28,
   "metadata": {},
   "outputs": [
    {
     "name": "stdout",
     "output_type": "stream",
     "text": [
      "Training model.\n",
      "| Epoch: 01 | Train Loss: 0.91 | Train MSE: 0.91 | Train RMSE: 0.95 |         Val. Loss: 0.5491 | Val. MSE: 0.5491 |  Val. RMSE: 0.7410 |\n",
      "Found a better model, saving ... \n"
     ]
    }
   ],
   "source": [
    "full_train_losses_ff, full_valid_losses_ff = bert_train(\n",
    "     optimizer=optimizer_ff_full, \n",
    "     train_iter=train_loader, \n",
    "     dev_iter=dev_loader, \n",
    "    model=bert_ffnn_full,\n",
    "     loss_fn=loss_fn,\n",
    "    device = device, \n",
    "     number_epoch =1,   \n",
    "     model_name='task1_full_ffnn.pt', \n",
    "    patience=5,)"
   ]
  },
  {
   "cell_type": "code",
   "execution_count": 29,
   "metadata": {},
   "outputs": [],
   "source": [
    "from utils_plot import plot_loss_vs_epochs"
   ]
  },
  {
   "cell_type": "code",
   "execution_count": 30,
   "metadata": {},
   "outputs": [
    {
     "data": {
      "image/png": "[encoded data removed]",
      "text/plain": [
       "<Figure size 1152x432 with 2 Axes>"
      ]
     },
     "metadata": {},
     "output_type": "display_data"
    }
   ],
   "source": [
    "plot_loss_vs_epochs(question_train_losses_ff, question_valid_losses_ff, \n",
    "                        full_train_losses_ff,full_valid_losses_ff )"
   ]
  }
 ],
 "metadata": {
  "kernelspec": {
   "display_name": "Python 3",
   "language": "python",
   "name": "python3"
  },
  "language_info": {
   "codemirror_mode": {
    "name": "ipython",
    "version": 3
   },
   "file_extension": ".py",
   "mimetype": "text/x-python",
   "name": "python",
   "nbconvert_exporter": "python",
   "pygments_lexer": "ipython3",
   "version": "3.7.4"
  }
 },
 "nbformat": 4,
 "nbformat_minor": 4
}
